{
  "nbformat": 4,
  "nbformat_minor": 0,
  "metadata": {
    "colab": {
      "provenance": []
    },
    "kernelspec": {
      "name": "python3",
      "display_name": "Python 3"
    },
    "language_info": {
      "name": "python"
    }
  },
  "cells": [
    {
      "cell_type": "code",
      "execution_count": null,
      "metadata": {
        "id": "kqfk_jNDcH_Q"
      },
      "outputs": [],
      "source": [
        "import numpy as np\n",
        "import matplotlib.pyplot as plt\n",
        "import pandas as pd\n",
        "import seaborn as sns\n",
        "from sklearn import svm\n",
        "from sklearn.ensemble import RandomForestClassifier\n",
        "from sklearn.neighbors import KNeighborsClassifier\n",
        "from sklearn.metrics import f1_score,confusion_matrix\n",
        "from sklearn.model_selection import train_test_split"
      ]
    },
    {
      "cell_type": "code",
      "source": [
        "from google.colab import drive\n",
        "drive.mount('/content/drive')"
      ],
      "metadata": {
        "colab": {
          "base_uri": "https://localhost:8080/"
        },
        "id": "uJCxLLhsc88Q",
        "outputId": "e4625e39-e4c4-4e59-863f-526e051ede7e"
      },
      "execution_count": null,
      "outputs": [
        {
          "output_type": "stream",
          "name": "stdout",
          "text": [
            "Mounted at /content/drive\n"
          ]
        }
      ]
    },
    {
      "cell_type": "code",
      "source": [
        "data = pd.read_csv (\"/content/drive/My Drive/master_dataset/extracted_features.csv\")"
      ],
      "metadata": {
        "id": "wu86v_9cg4Ol"
      },
      "execution_count": null,
      "outputs": []
    },
    {
      "cell_type": "code",
      "source": [
        "data.describe()"
      ],
      "metadata": {
        "colab": {
          "base_uri": "https://localhost:8080/",
          "height": 330
        },
        "id": "ccngPQGMhDZV",
        "outputId": "c85ed66d-f4a1-4ca3-f2d8-5b4a45569986"
      },
      "execution_count": null,
      "outputs": [
        {
          "output_type": "execute_result",
          "data": {
            "text/plain": [
              "                1           2           3           4           5           6  \\\n",
              "count  904.000000  904.000000  904.000000  904.000000  904.000000  904.000000   \n",
              "mean     0.252976    0.253850    0.254146    0.254460    0.254539    0.255001   \n",
              "std      0.109494    0.109618    0.109508    0.109402    0.109509    0.109268   \n",
              "min      0.021222    0.021250    0.021306    0.021326    0.021479    0.021514   \n",
              "25%      0.153440    0.154344    0.154596    0.155304    0.155442    0.156120   \n",
              "50%      0.277024    0.278037    0.277780    0.277711    0.278060    0.278025   \n",
              "75%      0.334548    0.335225    0.334734    0.335228    0.335654    0.335432   \n",
              "max      0.533359    0.534139    0.535233    0.536544    0.537668    0.538444   \n",
              "\n",
              "                7           8           9          10  ...        4612  \\\n",
              "count  904.000000  904.000000  904.000000  904.000000  ...  904.000000   \n",
              "mean     0.255291    0.255618    0.255678    0.256142  ...   -0.361113   \n",
              "std      0.109152    0.109044    0.109114    0.108848  ...    0.551732   \n",
              "min      0.021563    0.021578    0.021307    0.021469  ...   -2.611010   \n",
              "25%      0.156467    0.156639    0.157282    0.158864  ...   -0.721745   \n",
              "50%      0.279073    0.278999    0.279404    0.279439  ...   -0.345720   \n",
              "75%      0.336029    0.336320    0.336740    0.337070  ...    0.006567   \n",
              "max      0.539243    0.539599    0.539413    0.539621  ...    1.626480   \n",
              "\n",
              "             4613        4614        4615        4616        4617        4618  \\\n",
              "count  904.000000  904.000000  904.000000  904.000000  904.000000  904.000000   \n",
              "mean    -0.363039   -0.368366   -0.371656   -0.376130   -0.376736   -0.372115   \n",
              "std      0.551547    0.556399    0.564214    0.569144    0.571363    0.567235   \n",
              "min     -2.730420   -2.657370   -2.692930   -2.531020   -2.711810   -2.776420   \n",
              "25%     -0.727030   -0.737455   -0.742970   -0.751130   -0.748605   -0.747535   \n",
              "50%     -0.352620   -0.360915   -0.359960   -0.358970   -0.356630   -0.361950   \n",
              "75%      0.005358    0.017273    0.028522    0.008165    0.012490    0.017195   \n",
              "max      1.607370    1.726360    1.774620    1.750620    1.773920    1.680630   \n",
              "\n",
              "             4619        4620        4621  \n",
              "count  904.000000  904.000000  904.000000  \n",
              "mean    -0.370660   -0.365544    0.399336  \n",
              "std      0.567022    0.563397    0.490033  \n",
              "min     -2.809960   -2.895980    0.000000  \n",
              "25%     -0.723688   -0.727270    0.000000  \n",
              "50%     -0.361945   -0.351710    0.000000  \n",
              "75%      0.000063    0.003023    1.000000  \n",
              "max      1.673320    1.498440    1.000000  \n",
              "\n",
              "[8 rows x 4621 columns]"
            ],
            "text/html": [
              "\n",
              "  <div id=\"df-07425308-6063-4140-a302-b32a2e7c4503\" class=\"colab-df-container\">\n",
              "    <div>\n",
              "<style scoped>\n",
              "    .dataframe tbody tr th:only-of-type {\n",
              "        vertical-align: middle;\n",
              "    }\n",
              "\n",
              "    .dataframe tbody tr th {\n",
              "        vertical-align: top;\n",
              "    }\n",
              "\n",
              "    .dataframe thead th {\n",
              "        text-align: right;\n",
              "    }\n",
              "</style>\n",
              "<table border=\"1\" class=\"dataframe\">\n",
              "  <thead>\n",
              "    <tr style=\"text-align: right;\">\n",
              "      <th></th>\n",
              "      <th>1</th>\n",
              "      <th>2</th>\n",
              "      <th>3</th>\n",
              "      <th>4</th>\n",
              "      <th>5</th>\n",
              "      <th>6</th>\n",
              "      <th>7</th>\n",
              "      <th>8</th>\n",
              "      <th>9</th>\n",
              "      <th>10</th>\n",
              "      <th>...</th>\n",
              "      <th>4612</th>\n",
              "      <th>4613</th>\n",
              "      <th>4614</th>\n",
              "      <th>4615</th>\n",
              "      <th>4616</th>\n",
              "      <th>4617</th>\n",
              "      <th>4618</th>\n",
              "      <th>4619</th>\n",
              "      <th>4620</th>\n",
              "      <th>4621</th>\n",
              "    </tr>\n",
              "  </thead>\n",
              "  <tbody>\n",
              "    <tr>\n",
              "      <th>count</th>\n",
              "      <td>904.000000</td>\n",
              "      <td>904.000000</td>\n",
              "      <td>904.000000</td>\n",
              "      <td>904.000000</td>\n",
              "      <td>904.000000</td>\n",
              "      <td>904.000000</td>\n",
              "      <td>904.000000</td>\n",
              "      <td>904.000000</td>\n",
              "      <td>904.000000</td>\n",
              "      <td>904.000000</td>\n",
              "      <td>...</td>\n",
              "      <td>904.000000</td>\n",
              "      <td>904.000000</td>\n",
              "      <td>904.000000</td>\n",
              "      <td>904.000000</td>\n",
              "      <td>904.000000</td>\n",
              "      <td>904.000000</td>\n",
              "      <td>904.000000</td>\n",
              "      <td>904.000000</td>\n",
              "      <td>904.000000</td>\n",
              "      <td>904.000000</td>\n",
              "    </tr>\n",
              "    <tr>\n",
              "      <th>mean</th>\n",
              "      <td>0.252976</td>\n",
              "      <td>0.253850</td>\n",
              "      <td>0.254146</td>\n",
              "      <td>0.254460</td>\n",
              "      <td>0.254539</td>\n",
              "      <td>0.255001</td>\n",
              "      <td>0.255291</td>\n",
              "      <td>0.255618</td>\n",
              "      <td>0.255678</td>\n",
              "      <td>0.256142</td>\n",
              "      <td>...</td>\n",
              "      <td>-0.361113</td>\n",
              "      <td>-0.363039</td>\n",
              "      <td>-0.368366</td>\n",
              "      <td>-0.371656</td>\n",
              "      <td>-0.376130</td>\n",
              "      <td>-0.376736</td>\n",
              "      <td>-0.372115</td>\n",
              "      <td>-0.370660</td>\n",
              "      <td>-0.365544</td>\n",
              "      <td>0.399336</td>\n",
              "    </tr>\n",
              "    <tr>\n",
              "      <th>std</th>\n",
              "      <td>0.109494</td>\n",
              "      <td>0.109618</td>\n",
              "      <td>0.109508</td>\n",
              "      <td>0.109402</td>\n",
              "      <td>0.109509</td>\n",
              "      <td>0.109268</td>\n",
              "      <td>0.109152</td>\n",
              "      <td>0.109044</td>\n",
              "      <td>0.109114</td>\n",
              "      <td>0.108848</td>\n",
              "      <td>...</td>\n",
              "      <td>0.551732</td>\n",
              "      <td>0.551547</td>\n",
              "      <td>0.556399</td>\n",
              "      <td>0.564214</td>\n",
              "      <td>0.569144</td>\n",
              "      <td>0.571363</td>\n",
              "      <td>0.567235</td>\n",
              "      <td>0.567022</td>\n",
              "      <td>0.563397</td>\n",
              "      <td>0.490033</td>\n",
              "    </tr>\n",
              "    <tr>\n",
              "      <th>min</th>\n",
              "      <td>0.021222</td>\n",
              "      <td>0.021250</td>\n",
              "      <td>0.021306</td>\n",
              "      <td>0.021326</td>\n",
              "      <td>0.021479</td>\n",
              "      <td>0.021514</td>\n",
              "      <td>0.021563</td>\n",
              "      <td>0.021578</td>\n",
              "      <td>0.021307</td>\n",
              "      <td>0.021469</td>\n",
              "      <td>...</td>\n",
              "      <td>-2.611010</td>\n",
              "      <td>-2.730420</td>\n",
              "      <td>-2.657370</td>\n",
              "      <td>-2.692930</td>\n",
              "      <td>-2.531020</td>\n",
              "      <td>-2.711810</td>\n",
              "      <td>-2.776420</td>\n",
              "      <td>-2.809960</td>\n",
              "      <td>-2.895980</td>\n",
              "      <td>0.000000</td>\n",
              "    </tr>\n",
              "    <tr>\n",
              "      <th>25%</th>\n",
              "      <td>0.153440</td>\n",
              "      <td>0.154344</td>\n",
              "      <td>0.154596</td>\n",
              "      <td>0.155304</td>\n",
              "      <td>0.155442</td>\n",
              "      <td>0.156120</td>\n",
              "      <td>0.156467</td>\n",
              "      <td>0.156639</td>\n",
              "      <td>0.157282</td>\n",
              "      <td>0.158864</td>\n",
              "      <td>...</td>\n",
              "      <td>-0.721745</td>\n",
              "      <td>-0.727030</td>\n",
              "      <td>-0.737455</td>\n",
              "      <td>-0.742970</td>\n",
              "      <td>-0.751130</td>\n",
              "      <td>-0.748605</td>\n",
              "      <td>-0.747535</td>\n",
              "      <td>-0.723688</td>\n",
              "      <td>-0.727270</td>\n",
              "      <td>0.000000</td>\n",
              "    </tr>\n",
              "    <tr>\n",
              "      <th>50%</th>\n",
              "      <td>0.277024</td>\n",
              "      <td>0.278037</td>\n",
              "      <td>0.277780</td>\n",
              "      <td>0.277711</td>\n",
              "      <td>0.278060</td>\n",
              "      <td>0.278025</td>\n",
              "      <td>0.279073</td>\n",
              "      <td>0.278999</td>\n",
              "      <td>0.279404</td>\n",
              "      <td>0.279439</td>\n",
              "      <td>...</td>\n",
              "      <td>-0.345720</td>\n",
              "      <td>-0.352620</td>\n",
              "      <td>-0.360915</td>\n",
              "      <td>-0.359960</td>\n",
              "      <td>-0.358970</td>\n",
              "      <td>-0.356630</td>\n",
              "      <td>-0.361950</td>\n",
              "      <td>-0.361945</td>\n",
              "      <td>-0.351710</td>\n",
              "      <td>0.000000</td>\n",
              "    </tr>\n",
              "    <tr>\n",
              "      <th>75%</th>\n",
              "      <td>0.334548</td>\n",
              "      <td>0.335225</td>\n",
              "      <td>0.334734</td>\n",
              "      <td>0.335228</td>\n",
              "      <td>0.335654</td>\n",
              "      <td>0.335432</td>\n",
              "      <td>0.336029</td>\n",
              "      <td>0.336320</td>\n",
              "      <td>0.336740</td>\n",
              "      <td>0.337070</td>\n",
              "      <td>...</td>\n",
              "      <td>0.006567</td>\n",
              "      <td>0.005358</td>\n",
              "      <td>0.017273</td>\n",
              "      <td>0.028522</td>\n",
              "      <td>0.008165</td>\n",
              "      <td>0.012490</td>\n",
              "      <td>0.017195</td>\n",
              "      <td>0.000063</td>\n",
              "      <td>0.003023</td>\n",
              "      <td>1.000000</td>\n",
              "    </tr>\n",
              "    <tr>\n",
              "      <th>max</th>\n",
              "      <td>0.533359</td>\n",
              "      <td>0.534139</td>\n",
              "      <td>0.535233</td>\n",
              "      <td>0.536544</td>\n",
              "      <td>0.537668</td>\n",
              "      <td>0.538444</td>\n",
              "      <td>0.539243</td>\n",
              "      <td>0.539599</td>\n",
              "      <td>0.539413</td>\n",
              "      <td>0.539621</td>\n",
              "      <td>...</td>\n",
              "      <td>1.626480</td>\n",
              "      <td>1.607370</td>\n",
              "      <td>1.726360</td>\n",
              "      <td>1.774620</td>\n",
              "      <td>1.750620</td>\n",
              "      <td>1.773920</td>\n",
              "      <td>1.680630</td>\n",
              "      <td>1.673320</td>\n",
              "      <td>1.498440</td>\n",
              "      <td>1.000000</td>\n",
              "    </tr>\n",
              "  </tbody>\n",
              "</table>\n",
              "<p>8 rows × 4621 columns</p>\n",
              "</div>\n",
              "    <div class=\"colab-df-buttons\">\n",
              "\n",
              "  <div class=\"colab-df-container\">\n",
              "    <button class=\"colab-df-convert\" onclick=\"convertToInteractive('df-07425308-6063-4140-a302-b32a2e7c4503')\"\n",
              "            title=\"Convert this dataframe to an interactive table.\"\n",
              "            style=\"display:none;\">\n",
              "\n",
              "  <svg xmlns=\"http://www.w3.org/2000/svg\" height=\"24px\" viewBox=\"0 -960 960 960\">\n",
              "    <path d=\"M120-120v-720h720v720H120Zm60-500h600v-160H180v160Zm220 220h160v-160H400v160Zm0 220h160v-160H400v160ZM180-400h160v-160H180v160Zm440 0h160v-160H620v160ZM180-180h160v-160H180v160Zm440 0h160v-160H620v160Z\"/>\n",
              "  </svg>\n",
              "    </button>\n",
              "\n",
              "  <style>\n",
              "    .colab-df-container {\n",
              "      display:flex;\n",
              "      gap: 12px;\n",
              "    }\n",
              "\n",
              "    .colab-df-convert {\n",
              "      background-color: #E8F0FE;\n",
              "      border: none;\n",
              "      border-radius: 50%;\n",
              "      cursor: pointer;\n",
              "      display: none;\n",
              "      fill: #1967D2;\n",
              "      height: 32px;\n",
              "      padding: 0 0 0 0;\n",
              "      width: 32px;\n",
              "    }\n",
              "\n",
              "    .colab-df-convert:hover {\n",
              "      background-color: #E2EBFA;\n",
              "      box-shadow: 0px 1px 2px rgba(60, 64, 67, 0.3), 0px 1px 3px 1px rgba(60, 64, 67, 0.15);\n",
              "      fill: #174EA6;\n",
              "    }\n",
              "\n",
              "    .colab-df-buttons div {\n",
              "      margin-bottom: 4px;\n",
              "    }\n",
              "\n",
              "    [theme=dark] .colab-df-convert {\n",
              "      background-color: #3B4455;\n",
              "      fill: #D2E3FC;\n",
              "    }\n",
              "\n",
              "    [theme=dark] .colab-df-convert:hover {\n",
              "      background-color: #434B5C;\n",
              "      box-shadow: 0px 1px 3px 1px rgba(0, 0, 0, 0.15);\n",
              "      filter: drop-shadow(0px 1px 2px rgba(0, 0, 0, 0.3));\n",
              "      fill: #FFFFFF;\n",
              "    }\n",
              "  </style>\n",
              "\n",
              "    <script>\n",
              "      const buttonEl =\n",
              "        document.querySelector('#df-07425308-6063-4140-a302-b32a2e7c4503 button.colab-df-convert');\n",
              "      buttonEl.style.display =\n",
              "        google.colab.kernel.accessAllowed ? 'block' : 'none';\n",
              "\n",
              "      async function convertToInteractive(key) {\n",
              "        const element = document.querySelector('#df-07425308-6063-4140-a302-b32a2e7c4503');\n",
              "        const dataTable =\n",
              "          await google.colab.kernel.invokeFunction('convertToInteractive',\n",
              "                                                    [key], {});\n",
              "        if (!dataTable) return;\n",
              "\n",
              "        const docLinkHtml = 'Like what you see? Visit the ' +\n",
              "          '<a target=\"_blank\" href=https://colab.research.google.com/notebooks/data_table.ipynb>data table notebook</a>'\n",
              "          + ' to learn more about interactive tables.';\n",
              "        element.innerHTML = '';\n",
              "        dataTable['output_type'] = 'display_data';\n",
              "        await google.colab.output.renderOutput(dataTable, element);\n",
              "        const docLink = document.createElement('div');\n",
              "        docLink.innerHTML = docLinkHtml;\n",
              "        element.appendChild(docLink);\n",
              "      }\n",
              "    </script>\n",
              "  </div>\n",
              "\n",
              "\n",
              "<div id=\"df-4da61601-7ccb-4f70-8594-e1ca40a17ad8\">\n",
              "  <button class=\"colab-df-quickchart\" onclick=\"quickchart('df-4da61601-7ccb-4f70-8594-e1ca40a17ad8')\"\n",
              "            title=\"Suggest charts\"\n",
              "            style=\"display:none;\">\n",
              "\n",
              "<svg xmlns=\"http://www.w3.org/2000/svg\" height=\"24px\"viewBox=\"0 0 24 24\"\n",
              "     width=\"24px\">\n",
              "    <g>\n",
              "        <path d=\"M19 3H5c-1.1 0-2 .9-2 2v14c0 1.1.9 2 2 2h14c1.1 0 2-.9 2-2V5c0-1.1-.9-2-2-2zM9 17H7v-7h2v7zm4 0h-2V7h2v10zm4 0h-2v-4h2v4z\"/>\n",
              "    </g>\n",
              "</svg>\n",
              "  </button>\n",
              "\n",
              "<style>\n",
              "  .colab-df-quickchart {\n",
              "      --bg-color: #E8F0FE;\n",
              "      --fill-color: #1967D2;\n",
              "      --hover-bg-color: #E2EBFA;\n",
              "      --hover-fill-color: #174EA6;\n",
              "      --disabled-fill-color: #AAA;\n",
              "      --disabled-bg-color: #DDD;\n",
              "  }\n",
              "\n",
              "  [theme=dark] .colab-df-quickchart {\n",
              "      --bg-color: #3B4455;\n",
              "      --fill-color: #D2E3FC;\n",
              "      --hover-bg-color: #434B5C;\n",
              "      --hover-fill-color: #FFFFFF;\n",
              "      --disabled-bg-color: #3B4455;\n",
              "      --disabled-fill-color: #666;\n",
              "  }\n",
              "\n",
              "  .colab-df-quickchart {\n",
              "    background-color: var(--bg-color);\n",
              "    border: none;\n",
              "    border-radius: 50%;\n",
              "    cursor: pointer;\n",
              "    display: none;\n",
              "    fill: var(--fill-color);\n",
              "    height: 32px;\n",
              "    padding: 0;\n",
              "    width: 32px;\n",
              "  }\n",
              "\n",
              "  .colab-df-quickchart:hover {\n",
              "    background-color: var(--hover-bg-color);\n",
              "    box-shadow: 0 1px 2px rgba(60, 64, 67, 0.3), 0 1px 3px 1px rgba(60, 64, 67, 0.15);\n",
              "    fill: var(--button-hover-fill-color);\n",
              "  }\n",
              "\n",
              "  .colab-df-quickchart-complete:disabled,\n",
              "  .colab-df-quickchart-complete:disabled:hover {\n",
              "    background-color: var(--disabled-bg-color);\n",
              "    fill: var(--disabled-fill-color);\n",
              "    box-shadow: none;\n",
              "  }\n",
              "\n",
              "  .colab-df-spinner {\n",
              "    border: 2px solid var(--fill-color);\n",
              "    border-color: transparent;\n",
              "    border-bottom-color: var(--fill-color);\n",
              "    animation:\n",
              "      spin 1s steps(1) infinite;\n",
              "  }\n",
              "\n",
              "  @keyframes spin {\n",
              "    0% {\n",
              "      border-color: transparent;\n",
              "      border-bottom-color: var(--fill-color);\n",
              "      border-left-color: var(--fill-color);\n",
              "    }\n",
              "    20% {\n",
              "      border-color: transparent;\n",
              "      border-left-color: var(--fill-color);\n",
              "      border-top-color: var(--fill-color);\n",
              "    }\n",
              "    30% {\n",
              "      border-color: transparent;\n",
              "      border-left-color: var(--fill-color);\n",
              "      border-top-color: var(--fill-color);\n",
              "      border-right-color: var(--fill-color);\n",
              "    }\n",
              "    40% {\n",
              "      border-color: transparent;\n",
              "      border-right-color: var(--fill-color);\n",
              "      border-top-color: var(--fill-color);\n",
              "    }\n",
              "    60% {\n",
              "      border-color: transparent;\n",
              "      border-right-color: var(--fill-color);\n",
              "    }\n",
              "    80% {\n",
              "      border-color: transparent;\n",
              "      border-right-color: var(--fill-color);\n",
              "      border-bottom-color: var(--fill-color);\n",
              "    }\n",
              "    90% {\n",
              "      border-color: transparent;\n",
              "      border-bottom-color: var(--fill-color);\n",
              "    }\n",
              "  }\n",
              "</style>\n",
              "\n",
              "  <script>\n",
              "    async function quickchart(key) {\n",
              "      const quickchartButtonEl =\n",
              "        document.querySelector('#' + key + ' button');\n",
              "      quickchartButtonEl.disabled = true;  // To prevent multiple clicks.\n",
              "      quickchartButtonEl.classList.add('colab-df-spinner');\n",
              "      try {\n",
              "        const charts = await google.colab.kernel.invokeFunction(\n",
              "            'suggestCharts', [key], {});\n",
              "      } catch (error) {\n",
              "        console.error('Error during call to suggestCharts:', error);\n",
              "      }\n",
              "      quickchartButtonEl.classList.remove('colab-df-spinner');\n",
              "      quickchartButtonEl.classList.add('colab-df-quickchart-complete');\n",
              "    }\n",
              "    (() => {\n",
              "      let quickchartButtonEl =\n",
              "        document.querySelector('#df-4da61601-7ccb-4f70-8594-e1ca40a17ad8 button');\n",
              "      quickchartButtonEl.style.display =\n",
              "        google.colab.kernel.accessAllowed ? 'block' : 'none';\n",
              "    })();\n",
              "  </script>\n",
              "</div>\n",
              "\n",
              "    </div>\n",
              "  </div>\n"
            ],
            "application/vnd.google.colaboratory.intrinsic+json": {
              "type": "dataframe"
            }
          },
          "metadata": {},
          "execution_count": 5
        }
      ]
    },
    {
      "cell_type": "code",
      "source": [
        "X , Y = data.values [ : , : -1 ] , data.values [ : , -1 ]"
      ],
      "metadata": {
        "id": "V_Rznvq9hHCS"
      },
      "execution_count": null,
      "outputs": []
    },
    {
      "cell_type": "code",
      "source": [
        "print ( \"classes are : \" , np.unique ( Y ) )\n"
      ],
      "metadata": {
        "colab": {
          "base_uri": "https://localhost:8080/"
        },
        "id": "DY2GW4bJhUab",
        "outputId": "2065645a-fbe3-42c1-820f-4f91d4c570c5"
      },
      "execution_count": null,
      "outputs": [
        {
          "output_type": "stream",
          "name": "stdout",
          "text": [
            "classes are :  [0. 1.]\n"
          ]
        }
      ]
    },
    {
      "cell_type": "code",
      "source": [
        "X.shape"
      ],
      "metadata": {
        "colab": {
          "base_uri": "https://localhost:8080/"
        },
        "id": "-is0-y4whW-r",
        "outputId": "86c9565c-a2d2-4e15-e338-e725b948e044"
      },
      "execution_count": null,
      "outputs": [
        {
          "output_type": "execute_result",
          "data": {
            "text/plain": [
              "(904, 4620)"
            ]
          },
          "metadata": {},
          "execution_count": 8
        }
      ]
    },
    {
      "cell_type": "code",
      "source": [
        "Y.shape"
      ],
      "metadata": {
        "colab": {
          "base_uri": "https://localhost:8080/"
        },
        "id": "6ePO55kyhZTV",
        "outputId": "7fbd89e4-85d4-4cc7-9d7e-29a8b514b1e7"
      },
      "execution_count": null,
      "outputs": [
        {
          "output_type": "execute_result",
          "data": {
            "text/plain": [
              "(904,)"
            ]
          },
          "metadata": {},
          "execution_count": 9
        }
      ]
    },
    {
      "cell_type": "code",
      "source": [
        "X_train, X_test, Y_train, Y_test = train_test_split( X, Y , test_size = 0.3 , random_state = 7)"
      ],
      "metadata": {
        "id": "EaULAltihdW9"
      },
      "execution_count": null,
      "outputs": []
    },
    {
      "cell_type": "code",
      "source": [
        "X_train"
      ],
      "metadata": {
        "colab": {
          "base_uri": "https://localhost:8080/"
        },
        "id": "gf-EN-IrhfDJ",
        "outputId": "ddb88c11-7191-4e5e-f85c-eff3d535d5f6"
      },
      "execution_count": null,
      "outputs": [
        {
          "output_type": "execute_result",
          "data": {
            "text/plain": [
              "array([[ 0.25000036,  0.25124519,  0.25159178, ..., -0.22544   ,\n",
              "        -0.20762   , -0.19633   ],\n",
              "       [ 0.12661237,  0.12668899,  0.12773296, ..., -0.11575   ,\n",
              "        -0.11857   , -0.09673   ],\n",
              "       [ 0.26256645,  0.2612467 ,  0.26092251, ..., -0.66835   ,\n",
              "        -0.64648   , -0.56575   ],\n",
              "       ...,\n",
              "       [ 0.33938133,  0.33893122,  0.3393757 , ..., -0.38246   ,\n",
              "        -0.36795   , -0.30057   ],\n",
              "       [ 0.35476254,  0.35532313,  0.35719844, ..., -0.21354   ,\n",
              "        -0.12356   , -0.05735   ],\n",
              "       [ 0.35891821,  0.35962597,  0.3595616 , ..., -0.59564   ,\n",
              "        -0.65448   , -0.72532   ]])"
            ]
          },
          "metadata": {},
          "execution_count": 11
        }
      ]
    },
    {
      "cell_type": "code",
      "source": [
        "X_test"
      ],
      "metadata": {
        "colab": {
          "base_uri": "https://localhost:8080/"
        },
        "id": "_DymJOTmhhXO",
        "outputId": "e8f89e54-f267-402c-b663-e42cf0d5c07f"
      },
      "execution_count": null,
      "outputs": [
        {
          "output_type": "execute_result",
          "data": {
            "text/plain": [
              "array([[ 0.17352835,  0.17336474,  0.17380241, ..., -0.1387    ,\n",
              "        -0.1563    , -0.22984   ],\n",
              "       [ 0.07983144,  0.07993921,  0.07997144, ..., -0.093     ,\n",
              "        -0.1716    , -0.20171   ],\n",
              "       [ 0.34434355,  0.34401819,  0.3437729 , ..., -0.46561   ,\n",
              "        -0.43507   , -0.43249   ],\n",
              "       ...,\n",
              "       [ 0.37341267,  0.37306699,  0.37429125, ..., -0.91708   ,\n",
              "        -1.11263   , -1.09285   ],\n",
              "       [ 0.45509412,  0.45591108,  0.45589959, ..., -0.49271   ,\n",
              "        -0.46354   , -0.43804   ],\n",
              "       [ 0.43551176,  0.43598961,  0.43677587, ..., -1.01453   ,\n",
              "        -1.08037   , -1.05803   ]])"
            ]
          },
          "metadata": {},
          "execution_count": 12
        }
      ]
    },
    {
      "cell_type": "code",
      "source": [
        "# model = RandomForestClassifier( n_estimators=100 , random_state = 7 )\n",
        "model=KNeighborsClassifier(n_neighbors=7)"
      ],
      "metadata": {
        "id": "XCNvAhkRhj7V"
      },
      "execution_count": null,
      "outputs": []
    },
    {
      "cell_type": "code",
      "source": [
        "model.fit(X_train,Y_train)\n",
        "# cm = confusion_matrix(Y_test,cf.predict(X_test))\n",
        "# sns.heatmap(cm,annot=True,fmt=\"d\")"
      ],
      "metadata": {
        "colab": {
          "base_uri": "https://localhost:8080/",
          "height": 75
        },
        "id": "A3-AqVm7hl9u",
        "outputId": "f64308f6-e09b-4068-a8a0-9916f7542ce1"
      },
      "execution_count": null,
      "outputs": [
        {
          "output_type": "execute_result",
          "data": {
            "text/plain": [
              "KNeighborsClassifier(n_neighbors=7)"
            ],
            "text/html": [
              "<style>#sk-container-id-3 {color: black;background-color: white;}#sk-container-id-3 pre{padding: 0;}#sk-container-id-3 div.sk-toggleable {background-color: white;}#sk-container-id-3 label.sk-toggleable__label {cursor: pointer;display: block;width: 100%;margin-bottom: 0;padding: 0.3em;box-sizing: border-box;text-align: center;}#sk-container-id-3 label.sk-toggleable__label-arrow:before {content: \"▸\";float: left;margin-right: 0.25em;color: #696969;}#sk-container-id-3 label.sk-toggleable__label-arrow:hover:before {color: black;}#sk-container-id-3 div.sk-estimator:hover label.sk-toggleable__label-arrow:before {color: black;}#sk-container-id-3 div.sk-toggleable__content {max-height: 0;max-width: 0;overflow: hidden;text-align: left;background-color: #f0f8ff;}#sk-container-id-3 div.sk-toggleable__content pre {margin: 0.2em;color: black;border-radius: 0.25em;background-color: #f0f8ff;}#sk-container-id-3 input.sk-toggleable__control:checked~div.sk-toggleable__content {max-height: 200px;max-width: 100%;overflow: auto;}#sk-container-id-3 input.sk-toggleable__control:checked~label.sk-toggleable__label-arrow:before {content: \"▾\";}#sk-container-id-3 div.sk-estimator input.sk-toggleable__control:checked~label.sk-toggleable__label {background-color: #d4ebff;}#sk-container-id-3 div.sk-label input.sk-toggleable__control:checked~label.sk-toggleable__label {background-color: #d4ebff;}#sk-container-id-3 input.sk-hidden--visually {border: 0;clip: rect(1px 1px 1px 1px);clip: rect(1px, 1px, 1px, 1px);height: 1px;margin: -1px;overflow: hidden;padding: 0;position: absolute;width: 1px;}#sk-container-id-3 div.sk-estimator {font-family: monospace;background-color: #f0f8ff;border: 1px dotted black;border-radius: 0.25em;box-sizing: border-box;margin-bottom: 0.5em;}#sk-container-id-3 div.sk-estimator:hover {background-color: #d4ebff;}#sk-container-id-3 div.sk-parallel-item::after {content: \"\";width: 100%;border-bottom: 1px solid gray;flex-grow: 1;}#sk-container-id-3 div.sk-label:hover label.sk-toggleable__label {background-color: #d4ebff;}#sk-container-id-3 div.sk-serial::before {content: \"\";position: absolute;border-left: 1px solid gray;box-sizing: border-box;top: 0;bottom: 0;left: 50%;z-index: 0;}#sk-container-id-3 div.sk-serial {display: flex;flex-direction: column;align-items: center;background-color: white;padding-right: 0.2em;padding-left: 0.2em;position: relative;}#sk-container-id-3 div.sk-item {position: relative;z-index: 1;}#sk-container-id-3 div.sk-parallel {display: flex;align-items: stretch;justify-content: center;background-color: white;position: relative;}#sk-container-id-3 div.sk-item::before, #sk-container-id-3 div.sk-parallel-item::before {content: \"\";position: absolute;border-left: 1px solid gray;box-sizing: border-box;top: 0;bottom: 0;left: 50%;z-index: -1;}#sk-container-id-3 div.sk-parallel-item {display: flex;flex-direction: column;z-index: 1;position: relative;background-color: white;}#sk-container-id-3 div.sk-parallel-item:first-child::after {align-self: flex-end;width: 50%;}#sk-container-id-3 div.sk-parallel-item:last-child::after {align-self: flex-start;width: 50%;}#sk-container-id-3 div.sk-parallel-item:only-child::after {width: 0;}#sk-container-id-3 div.sk-dashed-wrapped {border: 1px dashed gray;margin: 0 0.4em 0.5em 0.4em;box-sizing: border-box;padding-bottom: 0.4em;background-color: white;}#sk-container-id-3 div.sk-label label {font-family: monospace;font-weight: bold;display: inline-block;line-height: 1.2em;}#sk-container-id-3 div.sk-label-container {text-align: center;}#sk-container-id-3 div.sk-container {/* jupyter's `normalize.less` sets `[hidden] { display: none; }` but bootstrap.min.css set `[hidden] { display: none !important; }` so we also need the `!important` here to be able to override the default hidden behavior on the sphinx rendered scikit-learn.org. See: https://github.com/scikit-learn/scikit-learn/issues/21755 */display: inline-block !important;position: relative;}#sk-container-id-3 div.sk-text-repr-fallback {display: none;}</style><div id=\"sk-container-id-3\" class=\"sk-top-container\"><div class=\"sk-text-repr-fallback\"><pre>KNeighborsClassifier(n_neighbors=7)</pre><b>In a Jupyter environment, please rerun this cell to show the HTML representation or trust the notebook. <br />On GitHub, the HTML representation is unable to render, please try loading this page with nbviewer.org.</b></div><div class=\"sk-container\" hidden><div class=\"sk-item\"><div class=\"sk-estimator sk-toggleable\"><input class=\"sk-toggleable__control sk-hidden--visually\" id=\"sk-estimator-id-3\" type=\"checkbox\" checked><label for=\"sk-estimator-id-3\" class=\"sk-toggleable__label sk-toggleable__label-arrow\">KNeighborsClassifier</label><div class=\"sk-toggleable__content\"><pre>KNeighborsClassifier(n_neighbors=7)</pre></div></div></div></div></div>"
            ]
          },
          "metadata": {},
          "execution_count": 33
        }
      ]
    },
    {
      "cell_type": "code",
      "source": [
        "print (\"baseline accuracy \" , (  (model.predict(X_test) == Y_test).astype(\"int8\").sum() / Y_test.shape[0]   ) )"
      ],
      "metadata": {
        "colab": {
          "base_uri": "https://localhost:8080/"
        },
        "id": "h4GNbcu0h9if",
        "outputId": "966ad23e-6af3-4765-9c00-a7daec9ac121"
      },
      "execution_count": null,
      "outputs": [
        {
          "output_type": "stream",
          "name": "stdout",
          "text": [
            "baseline accuracy  0.75\n"
          ]
        }
      ]
    },
    {
      "cell_type": "code",
      "source": [],
      "metadata": {
        "id": "fKTrmAtfm5w7"
      },
      "execution_count": null,
      "outputs": []
    },
    {
      "cell_type": "code",
      "source": [
        "from sklearn.metrics import confusion_matrix\n",
        "y_pred = model.predict(X_test)\n",
        "confusion_matrix = confusion_matrix(Y_test,y_pred)\n",
        "\n",
        "cm_display = metrics.ConfusionMatrixDisplay(confusion_matrix = confusion_matrix, display_labels = [0, 1])\n",
        "\n",
        "cm_display.plot()\n",
        "plt.show()"
      ],
      "metadata": {
        "colab": {
          "base_uri": "https://localhost:8080/",
          "height": 450
        },
        "id": "bDtK_OwWh_5e",
        "outputId": "eb068550-5878-4dc6-e326-5be42fcb3485"
      },
      "execution_count": null,
      "outputs": [
        {
          "output_type": "display_data",
          "data": {
            "text/plain": [
              "<Figure size 640x480 with 2 Axes>"
            ],
            "image/png": "[encoded data removed]"
          },
          "metadata": {}
        }
      ]
    },
    {
      "cell_type": "code",
      "source": [
        "print(\"Sensitivity:\",a[0][0]/(a[0][0]+a[0][1]))"
      ],
      "metadata": {
        "colab": {
          "base_uri": "https://localhost:8080/"
        },
        "id": "nMfEp_foiCeL",
        "outputId": "628316b2-a27f-48bd-e138-de21bb3f830d"
      },
      "execution_count": null,
      "outputs": [
        {
          "output_type": "stream",
          "name": "stdout",
          "text": [
            "Sensitivity: 0.9204545454545454\n"
          ]
        }
      ]
    },
    {
      "cell_type": "code",
      "source": [
        "print(\"Specificty:\", a[1][1]/(a[1][1]+a[1][0]))"
      ],
      "metadata": {
        "colab": {
          "base_uri": "https://localhost:8080/"
        },
        "id": "giSj6sDNiFYg",
        "outputId": "858dcb63-bc7d-4c5b-980c-39677639deae"
      },
      "execution_count": null,
      "outputs": [
        {
          "output_type": "stream",
          "name": "stdout",
          "text": [
            "Specificty: 0.3854166666666667\n"
          ]
        }
      ]
    },
    {
      "cell_type": "code",
      "source": [
        "df = pd.DataFrame({'lab':['Accuracy', 'Sensitivity', 'Specificty'], 'val':[73.1,92,38.5]}) #RF\n",
        "ax = df.plot.bar(x='lab', y='val', rot=0,color=['b', 'r', 'g'])"
      ],
      "metadata": {
        "colab": {
          "base_uri": "https://localhost:8080/",
          "height": 449
        },
        "id": "Iw28Qy__iHb-",
        "outputId": "d4331c6c-8548-4090-9358-6c9862d2a9e2"
      },
      "execution_count": null,
      "outputs": [
        {
          "output_type": "display_data",
          "data": {
            "text/plain": [
              "<Figure size 640x480 with 1 Axes>"
            ],
            "image/png": "[encoded data removed]"
          },
          "metadata": {}
        }
      ]
    }
  ]
}